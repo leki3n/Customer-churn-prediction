{
 "cells": [
  {
   "cell_type": "markdown",
   "id": "27c5dbc5",
   "metadata": {},
   "source": [
    "# Phân tích tỷ lệ khách hàng rời bỏ (Churn Analysis)\n",
    "\n",
    "Notebook này thực hiện phân tích dữ liệu khách hàng để xác định các yếu tố ảnh hưởng đến việc rời bỏ dịch vụ."
   ]
  },
  {
   "cell_type": "code",
   "execution_count": null,
   "id": "870f27fd",
   "metadata": {},
   "outputs": [],
   "source": [
    "# 1. Nhập thư viện cần thiết\n",
    "import pandas as pd\n",
    "import numpy as np\n",
    "import matplotlib.pyplot as plt\n",
    "import seaborn as sns\n",
    "from sklearn.model_selection import train_test_split\n",
    "from sklearn.preprocessing import LabelEncoder, StandardScaler\n",
    "from sklearn.ensemble import RandomForestClassifier\n",
    "from sklearn.metrics import classification_report, confusion_matrix, accuracy_score"
   ]
  },
  {
   "cell_type": "code",
   "execution_count": null,
   "id": "028b6d7d",
   "metadata": {},
   "outputs": [],
   "source": [
    "# 2. Đọc dữ liệu\n",
    "# Thay đường dẫn file bằng đường dẫn thực tế\n",
    "data = pd.read_csv('customer_churn.csv')\n",
    "data.head()"
   ]
  },
  {
   "cell_type": "code",
   "execution_count": null,
   "id": "66b3461a",
   "metadata": {},
   "outputs": [],
   "source": [
    "# 3. Khám phá dữ liệu ban đầu\n",
    "print(data.info())\n",
    "print(data.describe())\n",
    "print(data.isnull().sum())"
   ]
  },
  {
   "cell_type": "code",
   "execution_count": null,
   "id": "a042b890",
   "metadata": {},
   "outputs": [],
   "source": [
    "# 4. Xử lý dữ liệu thiếu (nếu có)\n",
    "# data = data.dropna()  # Hoặc điền giá trị trung bình/giá trị phổ biến tùy cột"
   ]
  },
  {
   "cell_type": "code",
   "execution_count": null,
   "id": "f8d2e8e7",
   "metadata": {},
   "outputs": [],
   "source": [
    "# 5. Mã hóa các biến phân loại\n",
    "label_enc = LabelEncoder()\n",
    "for column in data.select_dtypes(include=['object']).columns:\n",
    "    data[column] = label_enc.fit_transform(data[column])"
   ]
  },
  {
   "cell_type": "code",
   "execution_count": null,
   "id": "9b8077a0",
   "metadata": {},
   "outputs": [],
   "source": [
    "# 6. Tách tập train/test\n",
    "X = data.drop('Churn', axis=1)\n",
    "y = data['Churn']\n",
    "X_train, X_test, y_train, y_test = train_test_split(X, y, test_size=0.2, random_state=42)"
   ]
  },
  {
   "cell_type": "code",
   "execution_count": null,
   "id": "97c52147",
   "metadata": {},
   "outputs": [],
   "source": [
    "# 7. Chuẩn hóa dữ liệu\n",
    "scaler = StandardScaler()\n",
    "X_train = scaler.fit_transform(X_train)\n",
    "X_test = scaler.transform(X_test)"
   ]
  },
  {
   "cell_type": "code",
   "execution_count": null,
   "id": "adf6a7ef",
   "metadata": {},
   "outputs": [],
   "source": [
    "# 8. Huấn luyện mô hình\n",
    "model = RandomForestClassifier(random_state=42)\n",
    "model.fit(X_train, y_train)"
   ]
  },
  {
   "cell_type": "code",
   "execution_count": null,
   "id": "0f1b9dde",
   "metadata": {},
   "outputs": [],
   "source": [
    "# 9. Đánh giá mô hình\n",
    "y_pred = model.predict(X_test)\n",
    "print(confusion_matrix(y_test, y_pred))\n",
    "print(classification_report(y_test, y_pred))\n",
    "print('Accuracy:', accuracy_score(y_test, y_pred))"
   ]
  },
  {
   "cell_type": "code",
   "execution_count": null,
   "id": "94a5bd55",
   "metadata": {},
   "outputs": [],
   "source": [
    "# 10. Phân tích tầm quan trọng của các đặc trưng\n",
    "importances = model.feature_importances_\n",
    "features = X.columns\n",
    "feat_importance = pd.Series(importances, index=features)\n",
    "feat_importance.nlargest(10).plot(kind='barh')\n",
    "plt.title('Top 10 đặc trưng quan trọng nhất')\n",
    "plt.show()"
   ]
  }
 ],
 "metadata": {},
 "nbformat": 4,
 "nbformat_minor": 5
}
